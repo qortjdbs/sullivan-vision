{
  "nbformat": 4,
  "nbformat_minor": 0,
  "metadata": {
    "colab": {
      "provenance": [],
      "machine_shape": "hm",
      "gpuType": "V100",
      "toc_visible": true,
      "authorship_tag": "ABX9TyNFb/L3xrW3fmEDXqr+9KCs",
      "include_colab_link": true
    },
    "kernelspec": {
      "name": "python3",
      "display_name": "Python 3"
    },
    "language_info": {
      "name": "python"
    },
    "accelerator": "GPU"
  },
  "cells": [
    {
      "cell_type": "markdown",
      "metadata": {
        "id": "view-in-github",
        "colab_type": "text"
      },
      "source": [
        "<a href=\"https://colab.research.google.com/github/qortjdbs/ISEF_SullivanVision/blob/main/FER_Training.ipynb\" target=\"_parent\"><img src=\"https://colab.research.google.com/assets/colab-badge.svg\" alt=\"Open In Colab\"/></a>"
      ]
    },
    {
      "cell_type": "markdown",
      "source": [
        "# Setup"
      ],
      "metadata": {
        "id": "lIviIcc0D2w0"
      }
    },
    {
      "cell_type": "code",
      "source": [
        "from google.colab import drive\n",
        "drive.mount('/content/drive')\n",
        "\n",
        "!unzip /content/drive/MyDrive/ISEF/dataset2.zip"
      ],
      "metadata": {
        "id": "8y2261-5492n"
      },
      "execution_count": null,
      "outputs": []
    },
    {
      "cell_type": "code",
      "execution_count": null,
      "metadata": {
        "id": "EnWUCP6v44am"
      },
      "outputs": [],
      "source": [
        "import os\n",
        "\n",
        "from platform import python_version\n",
        "import warnings\n",
        "import time\n",
        "import datetime as dtw\n",
        "from sklearn.metrics import classification_report, confusion_matrix, ConfusionMatrixDisplay\n",
        "import multiprocessing as mp\n",
        "import shutil\n",
        "\n",
        "import matplotlib.pyplot as plt\n",
        "import matplotlib.image as mpimg\n",
        "\n",
        "import tensorflow as tf\n",
        "from tensorflow.keras import backend as K\n",
        "from tensorflow.keras.preprocessing.image import ImageDataGenerator\n",
        "from tensorflow.keras.applications.densenet import DenseNet121, preprocess_input, decode_predictions\n",
        "from tensorflow.keras.applications import InceptionV3, ResNet50, Xception\n",
        "from tensorflow.keras.models import *\n",
        "from tensorflow.keras.layers import *\n",
        "from tensorflow.keras.optimizers import *\n",
        "from tensorflow.keras.utils import *\n",
        "from tensorflow.keras.callbacks import *\n",
        "from tensorflow.keras.initializers import *\n",
        "from tensorflow.keras import regularizers\n",
        "from keras.initializers import glorot_uniform\n",
        "from keras.models import Model\n",
        "\n",
        "\n",
        "import pandas as pd\n",
        "import numpy as np\n",
        "import seaborn as sns\n",
        "from plotly.subplots import make_subplots\n",
        "import plotly.graph_objects as go\n",
        "\n",
        "from PIL import Image\n",
        "import xml.etree.ElementTree as ET\n",
        "import psutil\n",
        "import random\n",
        "\n",
        "warnings.filterwarnings(\"ignore\")\n",
        "%matplotlib inline"
      ]
    },
    {
      "cell_type": "markdown",
      "source": [
        "# Setting"
      ],
      "metadata": {
        "id": "S2Vr4RVyD9Lx"
      }
    },
    {
      "cell_type": "code",
      "source": [
        "epochs = 100\n",
        "batch_size = 48\n",
        "testsplit = .2\n",
        "targetx = 96\n",
        "targety = 96\n",
        "learning_rate = 0.0001\n",
        "classes = 7\n",
        "seed = 23\n",
        "\n",
        "datagen = ImageDataGenerator(\n",
        "    rescale=1./255,\n",
        "    brightness_range=[0.9, 1.1],\n",
        "    horizontal_flip=True,\n",
        "    rotation_range=20,\n",
        "    width_shift_range=0.2,\n",
        "    height_shift_range=0.2,\n",
        "    shear_range=0.2,\n",
        "    zoom_range=0.2,\n",
        "    fill_mode='nearest'\n",
        ")"
      ],
      "metadata": {
        "id": "a-xeIx_45JuP"
      },
      "execution_count": null,
      "outputs": []
    },
    {
      "cell_type": "markdown",
      "source": [
        "# Preprocessing"
      ],
      "metadata": {
        "id": "uNwsKhdKECb-"
      }
    },
    {
      "cell_type": "markdown",
      "source": [
        "## Preprocessing & Augumentation"
      ],
      "metadata": {
        "id": "fAts-1f9HKfZ"
      }
    },
    {
      "cell_type": "code",
      "source": [
        "import os\n",
        "from keras.preprocessing import image\n",
        "import numpy as np\n",
        "import cv2\n",
        "from tensorflow.keras.preprocessing.image import ImageDataGenerator\n",
        "\n",
        "# CLAHE 적용\n",
        "def apply_clahe(img):\n",
        "    # 이미지 변환을 위해 LAB 색상 공간으로 변환\n",
        "    lab = cv2.cvtColor(img, cv2.COLOR_RGB2LAB)\n",
        "    l, a, b = cv2.split(lab)\n",
        "\n",
        "    # CLAHE 객체 생성 및 L 채널에 적용\n",
        "    clahe = cv2.createCLAHE(clipLimit=2.0, tileGridSize=(8, 8))\n",
        "    cl = clahe.apply(l)\n",
        "\n",
        "    # 병합 및 RGB 색상 공간으로 변환\n",
        "    limg = cv2.merge((cl, a, b))\n",
        "    final = cv2.cvtColor(limg, cv2.COLOR_LAB2RGB)\n",
        "    return final\n",
        "\n",
        "# 고급 전처리 적용\n",
        "def advanced_preprocessing(img):\n",
        "    img = apply_clahe(img)\n",
        "    img = cv2.GaussianBlur(img, (5, 5), 0)\n",
        "    return img\n",
        "\n",
        "# 데이터 증강 및 전처리 설정\n",
        "datagen = ImageDataGenerator(\n",
        "    rescale=1./255,\n",
        "    brightness_range=[0.9, 1.1],\n",
        "    horizontal_flip=True,\n",
        "    vertical_flip=True,\n",
        "    rotation_range=30,\n",
        "    width_shift_range=0.2,\n",
        "    height_shift_range=0.2,\n",
        "    shear_range=0.2,\n",
        "    zoom_range=0.2,\n",
        "    fill_mode='nearest',\n",
        "    preprocessing_function=advanced_preprocessing,\n",
        ")"
      ],
      "metadata": {
        "id": "Dn3oQ7OUdyNB"
      },
      "execution_count": 1,
      "outputs": []
    },
    {
      "cell_type": "markdown",
      "source": [
        "## Augument and Save Images"
      ],
      "metadata": {
        "id": "ignuTN2rHNVM"
      }
    },
    {
      "cell_type": "code",
      "source": [
        "def augment_and_save_images(data_dir, save_dir, datagen, num_augmentations=5):\n",
        "    for subdir, dirs, files in os.walk(data_dir):\n",
        "        for file in files:\n",
        "            img_path = os.path.join(subdir, file)\n",
        "            img = image.load_img(img_path, target_size=(targetx, targety))  # Ensure dimensions match your requirements\n",
        "            x = image.img_to_array(img)\n",
        "            x = np.expand_dims(x, axis=0)\n",
        "\n",
        "            # Define a saving directory for this image's augmentations\n",
        "            save_prefix = os.path.join(save_dir, os.path.basename(subdir))\n",
        "            if not os.path.exists(save_prefix):\n",
        "                os.makedirs(save_prefix)\n",
        "\n",
        "            # Create and save augmented images\n",
        "            i = 0\n",
        "            for batch in datagen.flow(x, batch_size=1, save_to_dir=save_prefix, save_prefix='aug', save_format='jpeg'):\n",
        "                i += 1\n",
        "                if i >= num_augmentations:\n",
        "                    break  # This creates 'num_augmentations' new images per original image\n",
        "\n",
        "data_dir = '/content/dataset'  # The directory of your original dataset\n",
        "save_dir = '/content/augmented_dataset'  # Where to save the augmented images\n",
        "num_augmentations = 5  # Number of augmented images to create per original image\n",
        "\n",
        "augment_and_save_images(data_dir, save_dir, datagen, num_augmentations)\n"
      ],
      "metadata": {
        "id": "3nc6vJmdeE4n"
      },
      "execution_count": null,
      "outputs": []
    },
    {
      "cell_type": "markdown",
      "source": [
        "## Generators"
      ],
      "metadata": {
        "id": "qlRtBB5VeOi2"
      }
    },
    {
      "cell_type": "code",
      "source": [
        "# Training and validation data generators\n",
        "train_datagen = ImageDataGenerator(\n",
        "    rescale=1./255,\n",
        "    brightness_range=[0.9, 1.1],\n",
        "    horizontal_flip=True,\n",
        "    vertical_flip=True,\n",
        "    rotation_range=30,\n",
        "    width_shift_range=0.2,\n",
        "    height_shift_range=0.2,\n",
        "    shear_range=0.2,\n",
        "    zoom_range=0.2,\n",
        "    fill_mode='nearest',\n",
        "    validation_split=testsplit,\n",
        "    preprocessing_function=advanced_preprocessing,\n",
        ")\n",
        "\n",
        "# Training generator\n",
        "train_generator = train_datagen.flow_from_directory(\n",
        "    save_dir,\n",
        "    target_size=(targetx, targety),\n",
        "    batch_size=batch_size,\n",
        "    class_mode='categorical',\n",
        "    shuffle=True,\n",
        "    seed=seed,\n",
        "    subset=\"training\"\n",
        ")\n",
        "\n",
        "# Validation generator\n",
        "val_generator = train_datagen.flow_from_directory(\n",
        "    save_dir,\n",
        "    target_size=(targetx, targety),\n",
        "    batch_size=batch_size,\n",
        "    class_mode='categorical',\n",
        "    shuffle=False,\n",
        "    seed=seed,\n",
        "    subset=\"validation\",\n",
        ")"
      ],
      "metadata": {
        "id": "PqHCGZLBeRoS"
      },
      "execution_count": null,
      "outputs": []
    },
    {
      "cell_type": "markdown",
      "source": [
        "# Training"
      ],
      "metadata": {
        "id": "Xo91AHtkEG1g"
      }
    },
    {
      "cell_type": "code",
      "source": [
        "checkpoint = ModelCheckpoint('FER.h5',\n",
        "                             monitor='val_accuracy',\n",
        "                             save_best_only=True,\n",
        "                             verbose=1,\n",
        "                             mode='auto',\n",
        "                             save_weights_only=False,\n",
        "                             period=1)"
      ],
      "metadata": {
        "colab": {
          "base_uri": "https://localhost:8080/"
        },
        "id": "vm_aCAHU5SYM",
        "outputId": "2eaee812-3b3f-4019-f403-7548a2db025b"
      },
      "execution_count": null,
      "outputs": [
        {
          "output_type": "stream",
          "name": "stderr",
          "text": [
            "WARNING:tensorflow:`period` argument is deprecated. Please use `save_freq` to specify the frequency in number of batches seen.\n"
          ]
        }
      ]
    },
    {
      "cell_type": "markdown",
      "source": [
        "## InceptionV3"
      ],
      "metadata": {
        "id": "AjNxlUJWERcs"
      }
    },
    {
      "cell_type": "code",
      "source": [
        "base_model = InceptionV3(include_top=False, weights='imagenet', input_shape=(targetx, targety, 3))\n",
        "\n",
        "x = base_model.output\n",
        "x = GlobalAveragePooling2D()(x)\n",
        "x = Flatten()(x)\n",
        "x = BatchNormalization()(x)\n",
        "x = Dropout(0.3)(x)\n",
        "x = Dense(512, activation='relu', kernel_initializer=glorot_uniform(seed), kernel_regularizer=regularizers.L2(0.001), activity_regularizer=regularizers.L2(1e-4), bias_initializer='zeros')(x)\n",
        "x = BatchNormalization()(x)\n",
        "x = Dropout(0.3)(x)\n",
        "x = Dense(256, activation='relu', kernel_initializer=glorot_uniform(seed), kernel_regularizer=regularizers.L2(0.001), activity_regularizer=regularizers.L2(1e-4), bias_initializer='zeros')(x)\n",
        "x = BatchNormalization()(x)\n",
        "x = Dropout(0.3)(x)\n",
        "x = Dense(128, activation='relu', kernel_initializer=glorot_uniform(seed), kernel_regularizer=regularizers.L2(0.001), activity_regularizer=regularizers.L2(1e-4), bias_initializer='zeros')(x)\n",
        "x = BatchNormalization()(x)\n",
        "x = Dropout(0.3)(x)\n",
        "predictions = Dense(classes, activation='softmax', kernel_initializer='random_uniform', bias_initializer='zeros')(x)\n",
        "\n",
        "model = Model(inputs=base_model.input, outputs=predictions)\n",
        "optimizer = Adam(lr=learning_rate)\n",
        "loss = \"categorical_crossentropy\"\n",
        "\n",
        "for layer in model.layers:\n",
        "    layer.trainable = True\n",
        "\n",
        "model.compile(optimizer=optimizer, loss=loss, metrics=[\"accuracy\"])"
      ],
      "metadata": {
        "id": "YELFbr0tWVM6"
      },
      "execution_count": null,
      "outputs": []
    },
    {
      "cell_type": "markdown",
      "source": [
        "## DenseNet"
      ],
      "metadata": {
        "id": "4EY8XhE8EK_q"
      }
    },
    {
      "cell_type": "code",
      "source": [
        "base_model = DenseNet121(include_top=False, weights='imagenet', input_shape=(targetx, targety, 3))\n",
        "\n",
        "x = base_model.output\n",
        "x = GlobalAveragePooling2D()(x)\n",
        "x = Flatten() (x)\n",
        "x = BatchNormalization()(x)\n",
        "x=Dropout(0.3)(x)\n",
        "x = Dense(512, activation='relu',  kernel_initializer=glorot_uniform(seed),kernel_regularizer=regularizers.L2(0.001),activity_regularizer=regularizers.L2(1e-4), bias_initializer='zeros')(x)\n",
        "x = BatchNormalization()(x)\n",
        "x=Dropout(0.3)(x)\n",
        "x = Dense(256, activation='relu',  kernel_initializer=glorot_uniform(seed),kernel_regularizer=regularizers.L2(0.001),activity_regularizer=regularizers.L2(1e-4), bias_initializer='zeros')(x)\n",
        "x = BatchNormalization()(x)\n",
        "x=Dropout(0.3)(x)\n",
        "x = Dense(128, activation='relu',  kernel_initializer=glorot_uniform(seed),kernel_regularizer=regularizers.L2(0.001),activity_regularizer=regularizers.L2(1e-4), bias_initializer='zeros')(x)\n",
        "x = BatchNormalization()(x)\n",
        "x=Dropout(0.3)(x)\n",
        "predictions = Dense(classes, activation='softmax', kernel_initializer='random_uniform', bias_initializer='zeros')(x)\n",
        "\n",
        "model = Model(inputs=base_model.input, outputs=predictions)\n",
        "optimizer = Adam(lr=learning_rate)\n",
        "loss = \"categorical_crossentropy\"\n",
        "\n",
        "for layer in model.layers:\n",
        "    layer.trainable = True\n",
        "\n",
        "model.compile(optimizer=optimizer,\n",
        "              loss=loss,\n",
        "              metrics=[\"accuracy\"])"
      ],
      "metadata": {
        "colab": {
          "base_uri": "https://localhost:8080/"
        },
        "id": "wcib0PBR5Tjf",
        "outputId": "8790e977-e0be-4644-a751-5cefeee183f7"
      },
      "execution_count": null,
      "outputs": [
        {
          "output_type": "stream",
          "name": "stdout",
          "text": [
            "Downloading data from https://storage.googleapis.com/tensorflow/keras-applications/densenet/densenet121_weights_tf_dim_ordering_tf_kernels_notop.h5\n",
            "29084464/29084464 [==============================] - 2s 0us/step\n"
          ]
        },
        {
          "output_type": "stream",
          "name": "stderr",
          "text": [
            "WARNING:absl:`lr` is deprecated in Keras optimizer, please use `learning_rate` or use the legacy optimizer, e.g.,tf.keras.optimizers.legacy.Adam.\n"
          ]
        }
      ]
    },
    {
      "cell_type": "markdown",
      "source": [
        "## ResNet50"
      ],
      "metadata": {
        "id": "6oegOpOGFt1-"
      }
    },
    {
      "cell_type": "code",
      "source": [
        "base_model = ResNet50(include_top=False, weights='imagenet', input_shape=(targetx, targety, 3))\n",
        "\n",
        "x = base_model.output\n",
        "x = GlobalAveragePooling2D()(x)\n",
        "x = Flatten() (x)\n",
        "x = BatchNormalization()(x)\n",
        "x=Dropout(0.3)(x)\n",
        "x = Dense(512, activation='relu',  kernel_initializer=glorot_uniform(seed),kernel_regularizer=regularizers.L2(0.001),activity_regularizer=regularizers.L2(1e-4), bias_initializer='zeros')(x)\n",
        "x = BatchNormalization()(x)\n",
        "x=Dropout(0.3)(x)\n",
        "x = Dense(256, activation='relu',  kernel_initializer=glorot_uniform(seed),kernel_regularizer=regularizers.L2(0.001),activity_regularizer=regularizers.L2(1e-4), bias_initializer='zeros')(x)\n",
        "x = BatchNormalization()(x)\n",
        "x=Dropout(0.3)(x)\n",
        "x = Dense(128, activation='relu',  kernel_initializer=glorot_uniform(seed),kernel_regularizer=regularizers.L2(0.001),activity_regularizer=regularizers.L2(1e-4), bias_initializer='zeros')(x)\n",
        "x = BatchNormalization()(x)\n",
        "x=Dropout(0.3)(x)\n",
        "predictions = Dense(classes, activation='softmax', kernel_initializer='random_uniform', bias_initializer='zeros')(x)\n",
        "\n",
        "model = Model(inputs=base_model.input, outputs=predictions)\n",
        "optimizer = Adam(lr=learning_rate)\n",
        "loss = \"categorical_crossentropy\"\n",
        "\n",
        "for layer in model.layers:\n",
        "    layer.trainable = True\n",
        "\n",
        "model.compile(optimizer=optimizer,\n",
        "              loss=loss,\n",
        "              metrics=[\"accuracy\"])"
      ],
      "metadata": {
        "id": "SGTHujcGFxlk"
      },
      "execution_count": null,
      "outputs": []
    },
    {
      "cell_type": "markdown",
      "source": [
        "## Xception"
      ],
      "metadata": {
        "id": "AR0m3TUJEw-r"
      }
    },
    {
      "cell_type": "code",
      "source": [
        "# Xception\n",
        "\n",
        "base_model = Xception(include_top=False, weights='imagenet', input_shape=(targetx, targety, 3))\n",
        "\n",
        "x = base_model.output\n",
        "x = GlobalAveragePooling2D()(x)\n",
        "x = Flatten()(x)\n",
        "x = BatchNormalization()(x)\n",
        "x = Dropout(0.3)(x)\n",
        "x = Dense(512, activation='relu', kernel_initializer=glorot_uniform(seed), kernel_regularizer=regularizers.L2(0.001), activity_regularizer=regularizers.L2(1e-4), bias_initializer='zeros')(x)\n",
        "x = BatchNormalization()(x)\n",
        "x = Dropout(0.3)(x)\n",
        "x = Dense(256, activation='relu', kernel_initializer=glorot_uniform(seed), kernel_regularizer=regularizers.L2(0.001), activity_regularizer=regularizers.L2(1e-4), bias_initializer='zeros')(x)\n",
        "x = BatchNormalization()(x)\n",
        "x = Dropout(0.3)(x)\n",
        "x = Dense(128, activation='relu', kernel_initializer=glorot_uniform(seed), kernel_regularizer=regularizers.L2(0.001), activity_regularizer=regularizers.L2(1e-4), bias_initializer='zeros')(x)\n",
        "x = BatchNormalization()(x)\n",
        "x = Dropout(0.3)(x)\n",
        "predictions = Dense(classes, activation='softmax', kernel_initializer='random_uniform', bias_initializer='zeros')(x)\n",
        "\n",
        "model = Model(inputs=base_model.input, outputs=predictions)\n",
        "optimizer = Adam(lr=learning_rate)\n",
        "loss = \"categorical_crossentropy\"\n",
        "\n",
        "for layer in model.layers:\n",
        "    layer.trainable = True\n",
        "\n",
        "model.compile(optimizer=optimizer, loss=loss, metrics=[\"accuracy\"])\n"
      ],
      "metadata": {
        "colab": {
          "base_uri": "https://localhost:8080/"
        },
        "id": "qC1Lvg9iWKLs",
        "outputId": "8e4c18c2-866b-4d00-a82f-f94eef78811c"
      },
      "execution_count": null,
      "outputs": [
        {
          "output_type": "stream",
          "name": "stdout",
          "text": [
            "Downloading data from https://storage.googleapis.com/tensorflow/keras-applications/xception/xception_weights_tf_dim_ordering_tf_kernels_notop.h5\n",
            "83683744/83683744 [==============================] - 4s 0us/step\n"
          ]
        },
        {
          "output_type": "stream",
          "name": "stderr",
          "text": [
            "WARNING:absl:`lr` is deprecated in Keras optimizer, please use `learning_rate` or use the legacy optimizer, e.g.,tf.keras.optimizers.legacy.Adam.\n"
          ]
        }
      ]
    },
    {
      "cell_type": "markdown",
      "source": [
        "## Xception-AdCorre"
      ],
      "metadata": {
        "id": "yUnwE5RYEz-n"
      }
    },
    {
      "cell_type": "code",
      "source": [
        "# Xception + Ad-Corre\n",
        "\n",
        "class AdCorreLoss(tf.keras.losses.Loss):\n",
        "    def __init__(self, num_classes, lambda_param=0.5, **kwargs):\n",
        "        super(AdCorreLoss, self).__init__(**kwargs)\n",
        "        self.num_classes = num_classes\n",
        "        self.lambda_param = lambda_param\n",
        "\n",
        "    def call(self, y_true, y_pred):\n",
        "        # Standard categorical cross-entropy loss\n",
        "        ce_loss = tf.keras.losses.categorical_crossentropy(y_true, y_pred)\n",
        "\n",
        "        # Calculate the Ad-Corre components\n",
        "        fd_loss = self.feature_discriminator_loss(y_true, y_pred)\n",
        "        md_loss = self.mean_discriminator_loss(y_true, y_pred)\n",
        "        ed_loss = self.embedding_discriminator_loss(y_pred)\n",
        "\n",
        "        # Total Ad-Corre loss\n",
        "        ad_corre_loss = ce_loss + self.lambda_param * (fd_loss + md_loss + ed_loss)\n",
        "        return ad_corre_loss\n",
        "\n",
        "    def feature_discriminator_loss(self, y_true, y_pred):\n",
        "        # Compute correlation matrix for the feature discriminator\n",
        "        corr_matrix = self.compute_correlation_matrix(y_pred)\n",
        "\n",
        "        # Create npSign matrix based on true labels\n",
        "        np_sign = tf.sign(tf.tensordot(y_true, tf.transpose(y_true), axes=1))\n",
        "\n",
        "        # Compute Feature Discriminator Loss\n",
        "        fd_loss = tf.reduce_mean(tf.abs(np_sign - corr_matrix))\n",
        "        return fd_loss\n",
        "\n",
        "    def mean_discriminator_loss(self, y_true, y_pred):\n",
        "        # Compute mean of embedded feature vectors for each class\n",
        "        mean_vectors = tf.tensordot(y_true, y_pred, axes=1) / tf.reduce_sum(y_true, axis=0, keepdims=True)\n",
        "\n",
        "        # Compute correlation matrix for the mean vectors\n",
        "        corr_matrix = self.compute_correlation_matrix(mean_vectors)\n",
        "\n",
        "        # Compute Mean Discriminator Loss\n",
        "        md_loss = tf.reduce_sum(tf.abs(1 + corr_matrix)) / self.num_classes\n",
        "        return md_loss\n",
        "\n",
        "    def embedding_discriminator_loss(self, y_pred):\n",
        "        # Compute correlation matrix for embedded feature vectors\n",
        "        corr_matrix = self.compute_correlation_matrix(y_pred)\n",
        "\n",
        "        # Compute Embedding Discriminator Loss\n",
        "        ed_loss = tf.reduce_sum(tf.abs(1 + corr_matrix)) / y_pred.shape[1]\n",
        "        return ed_loss\n",
        "\n",
        "    def compute_correlation_matrix(self, vectors):\n",
        "        # Subtract mean from vectors\n",
        "        mean = tf.reduce_mean(vectors, axis=0, keepdims=True)\n",
        "        vectors_centered = vectors - mean\n",
        "\n",
        "        # Compute covariance\n",
        "        covariance = tf.matmul(vectors_centered, vectors_centered, transpose_a=True)\n",
        "\n",
        "        # Compute variance\n",
        "        variance = tf.linalg.diag_part(covariance)\n",
        "\n",
        "        # Compute correlation matrix\n",
        "        correlation_matrix = covariance / (tf.sqrt(variance[:, None]) * tf.sqrt(variance[None, :]) + 1e-8)\n",
        "        return correlation_matrix\n",
        "\n",
        "# Model architecture\n",
        "def build_model(input_shape, num_classes, learning_rate, seed):\n",
        "    base_model = Xception(include_top=False, weights='imagenet', input_shape=input_shape)\n",
        "\n",
        "    x = base_model.output\n",
        "    x = GlobalAveragePooling2D()(x)\n",
        "    x = Flatten()(x)\n",
        "    x = BatchNormalization()(x)\n",
        "    x = Dropout(0.3)(x)\n",
        "    x = Dense(512, activation='relu', kernel_initializer=glorot_uniform(seed),\n",
        "              kernel_regularizer=regularizers.L2(0.001),\n",
        "              activity_regularizer=regularizers.L2(1e-4), bias_initializer='zeros')(x)\n",
        "    x = BatchNormalization()(x)\n",
        "    x = Dropout(0.3)(x)\n",
        "    x = Dense(256, activation='relu', kernel_initializer=glorot_uniform(seed),\n",
        "              kernel_regularizer=regularizers.L2(0.001),\n",
        "              activity_regularizer=regularizers.L2(1e-4), bias_initializer='zeros')(x)\n",
        "    x = BatchNormalization()(x)\n",
        "    x = Dropout(0.3)(x)\n",
        "    x = Dense(128, activation='relu', kernel_initializer=glorot_uniform(seed),\n",
        "              kernel_regularizer=regularizers.L2(0.001),\n",
        "              activity_regularizer=regularizers.L2(1e-4), bias_initializer='zeros')(x)\n",
        "    x = BatchNormalization()(x)\n",
        "    x = Dropout(0.3)(x)\n",
        "    predictions = Dense(num_classes, activation='softmax',\n",
        "                        kernel_initializer='random_uniform', bias_initializer='zeros')(x)\n",
        "\n",
        "    model = Model(inputs=base_model.input, outputs=predictions)\n",
        "\n",
        "    # Compile model with Ad-Corre Loss\n",
        "    ad_corre_loss = AdCorreLoss(num_classes=num_classes)\n",
        "    optimizer = Adam(learning_rate=learning_rate)\n",
        "    model.compile(optimizer=optimizer, loss=ad_corre_loss, metrics=[\"accuracy\"])\n",
        "\n",
        "    # Make all layers trainable\n",
        "    for layer in model.layers:\n",
        "        layer.trainable = True\n",
        "\n",
        "    return model\n",
        "\n",
        "# Usage example\n",
        "input_shape = (224, 224, 3)  # Define your input shape\n",
        "num_classes = 7  # Define the number of classes\n",
        "learning_rate = 0.001\n",
        "seed = 42\n",
        "\n",
        "model_Xception_AdCorre = build_model(input_shape, num_classes, learning_rate, seed)\n",
        "\n",
        "# Model summary\n",
        "model_Xception_AdCorre.summary()\n"
      ],
      "metadata": {
        "id": "jRjszAp7CxPD"
      },
      "execution_count": null,
      "outputs": []
    },
    {
      "cell_type": "markdown",
      "source": [
        "# Results"
      ],
      "metadata": {
        "id": "1FvXSG00FGGx"
      }
    },
    {
      "cell_type": "markdown",
      "source": [
        "## Training Process"
      ],
      "metadata": {
        "id": "SjkcTKEBHbCS"
      }
    },
    {
      "cell_type": "code",
      "source": [
        "%%time\n",
        "\n",
        "\n",
        "model_history = model_Xception_AdCorre.fit_generator(generator=train_generator,\n",
        "                                steps_per_epoch=len(train_generator),\n",
        "                                validation_data=val_generator,\n",
        "                                validation_steps=len(val_generator),\n",
        "                                epochs=epochs,\n",
        "                                callbacks=[checkpoint])\n"
      ],
      "metadata": {
        "colab": {
          "base_uri": "https://localhost:8080/"
        },
        "id": "FQXi-cd95U72",
        "outputId": "af15253c-e025-4caa-97f1-b3bc7e7cf9d9"
      },
      "execution_count": null,
      "outputs": [
        {
          "output_type": "stream",
          "name": "stdout",
          "text": [
            "Epoch 1/100\n",
            "79/79 [==============================] - ETA: 0s - loss: 3.0232 - accuracy: 0.3288\n",
            "Epoch 1: val_accuracy improved from -inf to 0.17891, saving model to model_isef2.h5\n",
            "79/79 [==============================] - 48s 222ms/step - loss: 3.0232 - accuracy: 0.3288 - val_loss: 3.1229 - val_accuracy: 0.1789\n",
            "Epoch 2/100\n",
            "79/79 [==============================] - ETA: 0s - loss: 2.5009 - accuracy: 0.4495\n",
            "Epoch 2: val_accuracy did not improve from 0.17891\n",
            "79/79 [==============================] - 15s 195ms/step - loss: 2.5009 - accuracy: 0.4495 - val_loss: 2.9767 - val_accuracy: 0.1374\n",
            "Epoch 3/100\n",
            "79/79 [==============================] - ETA: 0s - loss: 2.0213 - accuracy: 0.6049\n",
            "Epoch 3: val_accuracy did not improve from 0.17891\n",
            "79/79 [==============================] - 15s 194ms/step - loss: 2.0213 - accuracy: 0.6049 - val_loss: 3.1166 - val_accuracy: 0.1789\n",
            "Epoch 4/100\n",
            "79/79 [==============================] - ETA: 0s - loss: 1.5645 - accuracy: 0.7160\n",
            "Epoch 4: val_accuracy did not improve from 0.17891\n",
            "79/79 [==============================] - 15s 193ms/step - loss: 1.5645 - accuracy: 0.7160 - val_loss: 3.0443 - val_accuracy: 0.1384\n",
            "Epoch 5/100\n",
            "79/79 [==============================] - ETA: 0s - loss: 1.3270 - accuracy: 0.7589\n",
            "Epoch 5: val_accuracy did not improve from 0.17891\n",
            "79/79 [==============================] - 15s 192ms/step - loss: 1.3270 - accuracy: 0.7589 - val_loss: 3.9358 - val_accuracy: 0.1374\n",
            "Epoch 6/100\n",
            "79/79 [==============================] - ETA: 0s - loss: 1.1929 - accuracy: 0.7826\n",
            "Epoch 6: val_accuracy improved from 0.17891 to 0.42918, saving model to model_isef2.h5\n",
            "79/79 [==============================] - 16s 204ms/step - loss: 1.1929 - accuracy: 0.7826 - val_loss: 2.0454 - val_accuracy: 0.4292\n",
            "Epoch 7/100\n",
            "79/79 [==============================] - ETA: 0s - loss: 1.0692 - accuracy: 0.8043\n",
            "Epoch 7: val_accuracy did not improve from 0.42918\n",
            "79/79 [==============================] - 15s 195ms/step - loss: 1.0692 - accuracy: 0.8043 - val_loss: 11.0762 - val_accuracy: 0.4100\n",
            "Epoch 8/100\n",
            "79/79 [==============================] - ETA: 0s - loss: 0.9644 - accuracy: 0.8149\n",
            "Epoch 8: val_accuracy did not improve from 0.42918\n",
            "79/79 [==============================] - 15s 194ms/step - loss: 0.9644 - accuracy: 0.8149 - val_loss: 2.8946 - val_accuracy: 0.3834\n",
            "Epoch 9/100\n",
            "79/79 [==============================] - ETA: 0s - loss: 0.8842 - accuracy: 0.8390\n",
            "Epoch 9: val_accuracy improved from 0.42918 to 0.76784, saving model to model_isef2.h5\n",
            "79/79 [==============================] - 16s 208ms/step - loss: 0.8842 - accuracy: 0.8390 - val_loss: 1.1198 - val_accuracy: 0.7678\n",
            "Epoch 10/100\n",
            "79/79 [==============================] - ETA: 0s - loss: 0.7759 - accuracy: 0.8717\n",
            "Epoch 10: val_accuracy improved from 0.76784 to 0.81470, saving model to model_isef2.h5\n",
            "79/79 [==============================] - 16s 202ms/step - loss: 0.7759 - accuracy: 0.8717 - val_loss: 0.9850 - val_accuracy: 0.8147\n",
            "Epoch 11/100\n",
            "79/79 [==============================] - ETA: 0s - loss: 0.6748 - accuracy: 0.8899\n",
            "Epoch 11: val_accuracy improved from 0.81470 to 0.84878, saving model to model_isef2.h5\n",
            "79/79 [==============================] - 16s 204ms/step - loss: 0.6748 - accuracy: 0.8899 - val_loss: 0.7173 - val_accuracy: 0.8488\n",
            "Epoch 12/100\n",
            "79/79 [==============================] - ETA: 0s - loss: 0.6559 - accuracy: 0.8873\n",
            "Epoch 12: val_accuracy improved from 0.84878 to 0.89670, saving model to model_isef2.h5\n",
            "79/79 [==============================] - 16s 204ms/step - loss: 0.6559 - accuracy: 0.8873 - val_loss: 0.6386 - val_accuracy: 0.8967\n",
            "Epoch 13/100\n",
            "79/79 [==============================] - ETA: 0s - loss: 0.6231 - accuracy: 0.8913\n",
            "Epoch 13: val_accuracy did not improve from 0.89670\n",
            "79/79 [==============================] - 15s 189ms/step - loss: 0.6231 - accuracy: 0.8913 - val_loss: 3.7327 - val_accuracy: 0.8935\n",
            "Epoch 14/100\n",
            "79/79 [==============================] - ETA: 0s - loss: 0.5568 - accuracy: 0.8992\n",
            "Epoch 14: val_accuracy did not improve from 0.89670\n",
            "79/79 [==============================] - 15s 191ms/step - loss: 0.5568 - accuracy: 0.8992 - val_loss: 1.4837 - val_accuracy: 0.8605\n",
            "Epoch 15/100\n",
            "79/79 [==============================] - ETA: 0s - loss: 0.4936 - accuracy: 0.9196\n",
            "Epoch 15: val_accuracy improved from 0.89670 to 0.90841, saving model to model_isef2.h5\n",
            "79/79 [==============================] - 16s 207ms/step - loss: 0.4936 - accuracy: 0.9196 - val_loss: 0.5927 - val_accuracy: 0.9084\n",
            "Epoch 16/100\n",
            "79/79 [==============================] - ETA: 0s - loss: 0.4893 - accuracy: 0.9183\n",
            "Epoch 16: val_accuracy did not improve from 0.90841\n",
            "79/79 [==============================] - 15s 191ms/step - loss: 0.4893 - accuracy: 0.9183 - val_loss: 0.8170 - val_accuracy: 0.8275\n",
            "Epoch 17/100\n",
            "79/79 [==============================] - ETA: 0s - loss: 0.4399 - accuracy: 0.9263\n",
            "Epoch 17: val_accuracy improved from 0.90841 to 0.91906, saving model to model_isef2.h5\n",
            "79/79 [==============================] - 16s 204ms/step - loss: 0.4399 - accuracy: 0.9263 - val_loss: 0.6090 - val_accuracy: 0.9191\n",
            "Epoch 18/100\n",
            "79/79 [==============================] - ETA: 0s - loss: 0.4117 - accuracy: 0.9332\n",
            "Epoch 18: val_accuracy improved from 0.91906 to 0.93610, saving model to model_isef2.h5\n",
            "79/79 [==============================] - 16s 202ms/step - loss: 0.4117 - accuracy: 0.9332 - val_loss: 0.3665 - val_accuracy: 0.9361\n",
            "Epoch 19/100\n",
            "79/79 [==============================] - ETA: 0s - loss: 0.4051 - accuracy: 0.9334\n",
            "Epoch 19: val_accuracy did not improve from 0.93610\n",
            "79/79 [==============================] - 15s 189ms/step - loss: 0.4051 - accuracy: 0.9334 - val_loss: 0.4862 - val_accuracy: 0.9042\n",
            "Epoch 20/100\n",
            "79/79 [==============================] - ETA: 0s - loss: 0.4094 - accuracy: 0.9316\n",
            "Epoch 20: val_accuracy did not improve from 0.93610\n",
            "79/79 [==============================] - 15s 190ms/step - loss: 0.4094 - accuracy: 0.9316 - val_loss: 1.6484 - val_accuracy: 0.8956\n",
            "Epoch 21/100\n",
            "79/79 [==============================] - ETA: 0s - loss: 0.3531 - accuracy: 0.9419\n",
            "Epoch 21: val_accuracy did not improve from 0.93610\n",
            "79/79 [==============================] - 15s 190ms/step - loss: 0.3531 - accuracy: 0.9419 - val_loss: 0.4106 - val_accuracy: 0.9308\n",
            "Epoch 22/100\n",
            "79/79 [==============================] - ETA: 0s - loss: 0.3671 - accuracy: 0.9401\n",
            "Epoch 22: val_accuracy did not improve from 0.93610\n",
            "79/79 [==============================] - 15s 190ms/step - loss: 0.3671 - accuracy: 0.9401 - val_loss: 20.1215 - val_accuracy: 0.8158\n",
            "Epoch 23/100\n",
            "79/79 [==============================] - ETA: 0s - loss: 0.3405 - accuracy: 0.9456\n",
            "Epoch 23: val_accuracy did not improve from 0.93610\n",
            "79/79 [==============================] - 15s 190ms/step - loss: 0.3405 - accuracy: 0.9456 - val_loss: 0.4770 - val_accuracy: 0.9350\n",
            "Epoch 24/100\n",
            "79/79 [==============================] - ETA: 0s - loss: 0.3600 - accuracy: 0.9395\n",
            "Epoch 24: val_accuracy improved from 0.93610 to 0.93823, saving model to model_isef2.h5\n",
            "79/79 [==============================] - 17s 209ms/step - loss: 0.3600 - accuracy: 0.9395 - val_loss: 0.4511 - val_accuracy: 0.9382\n",
            "Epoch 25/100\n",
            "79/79 [==============================] - ETA: 0s - loss: 0.3562 - accuracy: 0.9446\n",
            "Epoch 25: val_accuracy improved from 0.93823 to 0.93930, saving model to model_isef2.h5\n",
            "79/79 [==============================] - 16s 202ms/step - loss: 0.3562 - accuracy: 0.9446 - val_loss: 0.4705 - val_accuracy: 0.9393\n",
            "Epoch 26/100\n",
            "79/79 [==============================] - ETA: 0s - loss: 0.3391 - accuracy: 0.9446\n",
            "Epoch 26: val_accuracy did not improve from 0.93930\n",
            "79/79 [==============================] - 15s 190ms/step - loss: 0.3391 - accuracy: 0.9446 - val_loss: 0.6828 - val_accuracy: 0.8552\n",
            "Epoch 27/100\n",
            "79/79 [==============================] - ETA: 0s - loss: 0.3819 - accuracy: 0.9329\n",
            "Epoch 27: val_accuracy did not improve from 0.93930\n",
            "79/79 [==============================] - 15s 192ms/step - loss: 0.3819 - accuracy: 0.9329 - val_loss: 0.8503 - val_accuracy: 0.8158\n",
            "Epoch 28/100\n",
            "79/79 [==============================] - ETA: 0s - loss: 0.3180 - accuracy: 0.9483\n",
            "Epoch 28: val_accuracy did not improve from 0.93930\n",
            "79/79 [==============================] - 15s 190ms/step - loss: 0.3180 - accuracy: 0.9483 - val_loss: 1.5799 - val_accuracy: 0.9116\n",
            "Epoch 29/100\n",
            "79/79 [==============================] - ETA: 0s - loss: 0.2854 - accuracy: 0.9536\n",
            "Epoch 29: val_accuracy improved from 0.93930 to 0.95740, saving model to model_isef2.h5\n",
            "79/79 [==============================] - 16s 203ms/step - loss: 0.2854 - accuracy: 0.9536 - val_loss: 0.5291 - val_accuracy: 0.9574\n",
            "Epoch 30/100\n",
            "79/79 [==============================] - ETA: 0s - loss: 0.2698 - accuracy: 0.9570\n",
            "Epoch 30: val_accuracy did not improve from 0.95740\n",
            "79/79 [==============================] - 15s 191ms/step - loss: 0.2698 - accuracy: 0.9570 - val_loss: 1.0533 - val_accuracy: 0.9297\n",
            "Epoch 31/100\n",
            "79/79 [==============================] - ETA: 0s - loss: 0.2831 - accuracy: 0.9552\n",
            "Epoch 31: val_accuracy did not improve from 0.95740\n",
            "79/79 [==============================] - 15s 190ms/step - loss: 0.2831 - accuracy: 0.9552 - val_loss: 0.3299 - val_accuracy: 0.9436\n",
            "Epoch 32/100\n",
            "79/79 [==============================] - ETA: 0s - loss: 0.3029 - accuracy: 0.9501\n",
            "Epoch 32: val_accuracy did not improve from 0.95740\n",
            "79/79 [==============================] - 15s 190ms/step - loss: 0.3029 - accuracy: 0.9501 - val_loss: 0.3132 - val_accuracy: 0.9489\n",
            "Epoch 33/100\n",
            "79/79 [==============================] - ETA: 0s - loss: 0.2576 - accuracy: 0.9549\n",
            "Epoch 33: val_accuracy did not improve from 0.95740\n",
            "79/79 [==============================] - 15s 190ms/step - loss: 0.2576 - accuracy: 0.9549 - val_loss: 0.5291 - val_accuracy: 0.9340\n",
            "Epoch 34/100\n",
            "79/79 [==============================] - ETA: 0s - loss: 0.2729 - accuracy: 0.9525\n",
            "Epoch 34: val_accuracy did not improve from 0.95740\n",
            "79/79 [==============================] - 15s 192ms/step - loss: 0.2729 - accuracy: 0.9525 - val_loss: 0.5165 - val_accuracy: 0.9159\n",
            "Epoch 35/100\n",
            "79/79 [==============================] - ETA: 0s - loss: 0.2647 - accuracy: 0.9592\n",
            "Epoch 35: val_accuracy did not improve from 0.95740\n",
            "79/79 [==============================] - 15s 191ms/step - loss: 0.2647 - accuracy: 0.9592 - val_loss: 3.5254 - val_accuracy: 0.9116\n",
            "Epoch 36/100\n",
            "79/79 [==============================] - ETA: 0s - loss: 0.2998 - accuracy: 0.9475\n",
            "Epoch 36: val_accuracy did not improve from 0.95740\n",
            "79/79 [==============================] - 15s 192ms/step - loss: 0.2998 - accuracy: 0.9475 - val_loss: 0.4415 - val_accuracy: 0.9223\n",
            "Epoch 37/100\n",
            "79/79 [==============================] - ETA: 0s - loss: 0.2932 - accuracy: 0.9509\n",
            "Epoch 37: val_accuracy did not improve from 0.95740\n",
            "79/79 [==============================] - 15s 191ms/step - loss: 0.2932 - accuracy: 0.9509 - val_loss: 0.3174 - val_accuracy: 0.9542\n",
            "Epoch 38/100\n",
            "79/79 [==============================] - ETA: 0s - loss: 0.2852 - accuracy: 0.9544\n",
            "Epoch 38: val_accuracy did not improve from 0.95740\n",
            "79/79 [==============================] - 15s 192ms/step - loss: 0.2852 - accuracy: 0.9544 - val_loss: 0.4399 - val_accuracy: 0.9084\n",
            "Epoch 39/100\n",
            "79/79 [==============================] - ETA: 0s - loss: 0.2503 - accuracy: 0.9594\n",
            "Epoch 39: val_accuracy improved from 0.95740 to 0.96166, saving model to model_isef2.h5\n",
            "79/79 [==============================] - 16s 205ms/step - loss: 0.2503 - accuracy: 0.9594 - val_loss: 0.2157 - val_accuracy: 0.9617\n",
            "Epoch 40/100\n",
            "79/79 [==============================] - ETA: 0s - loss: 0.2340 - accuracy: 0.9615\n",
            "Epoch 40: val_accuracy did not improve from 0.96166\n",
            "79/79 [==============================] - 15s 191ms/step - loss: 0.2340 - accuracy: 0.9615 - val_loss: 0.4744 - val_accuracy: 0.8946\n",
            "Epoch 41/100\n",
            "79/79 [==============================] - ETA: 0s - loss: 0.2326 - accuracy: 0.9669\n",
            "Epoch 41: val_accuracy improved from 0.96166 to 0.97018, saving model to model_isef2.h5\n",
            "79/79 [==============================] - 16s 203ms/step - loss: 0.2326 - accuracy: 0.9669 - val_loss: 0.3126 - val_accuracy: 0.9702\n",
            "Epoch 42/100\n",
            "79/79 [==============================] - ETA: 0s - loss: 0.2345 - accuracy: 0.9645\n",
            "Epoch 42: val_accuracy did not improve from 0.97018\n",
            "79/79 [==============================] - 15s 194ms/step - loss: 0.2345 - accuracy: 0.9645 - val_loss: 0.3466 - val_accuracy: 0.9212\n",
            "Epoch 43/100\n",
            "79/79 [==============================] - ETA: 0s - loss: 0.2241 - accuracy: 0.9679\n",
            "Epoch 43: val_accuracy did not improve from 0.97018\n",
            "79/79 [==============================] - 15s 192ms/step - loss: 0.2241 - accuracy: 0.9679 - val_loss: 0.2424 - val_accuracy: 0.9627\n",
            "Epoch 44/100\n",
            "79/79 [==============================] - ETA: 0s - loss: 0.2549 - accuracy: 0.9613\n",
            "Epoch 44: val_accuracy did not improve from 0.97018\n",
            "79/79 [==============================] - 15s 192ms/step - loss: 0.2549 - accuracy: 0.9613 - val_loss: 0.3781 - val_accuracy: 0.9510\n",
            "Epoch 45/100\n",
            "79/79 [==============================] - ETA: 0s - loss: 0.2270 - accuracy: 0.9690\n",
            "Epoch 45: val_accuracy did not improve from 0.97018\n",
            "79/79 [==============================] - 15s 192ms/step - loss: 0.2270 - accuracy: 0.9690 - val_loss: 0.6430 - val_accuracy: 0.9404\n",
            "Epoch 46/100\n",
            "79/79 [==============================] - ETA: 0s - loss: 0.2126 - accuracy: 0.9682\n",
            "Epoch 46: val_accuracy did not improve from 0.97018\n",
            "79/79 [==============================] - 15s 196ms/step - loss: 0.2126 - accuracy: 0.9682 - val_loss: 0.3564 - val_accuracy: 0.9446\n",
            "Epoch 47/100\n",
            "79/79 [==============================] - ETA: 0s - loss: 0.2138 - accuracy: 0.9690\n",
            "Epoch 47: val_accuracy did not improve from 0.97018\n",
            "79/79 [==============================] - 15s 191ms/step - loss: 0.2138 - accuracy: 0.9690 - val_loss: 0.2242 - val_accuracy: 0.9585\n",
            "Epoch 48/100\n",
            "79/79 [==============================] - ETA: 0s - loss: 0.2138 - accuracy: 0.9684\n",
            "Epoch 48: val_accuracy did not improve from 0.97018\n",
            "79/79 [==============================] - 15s 193ms/step - loss: 0.2138 - accuracy: 0.9684 - val_loss: 0.6511 - val_accuracy: 0.9127\n",
            "Epoch 49/100\n",
            "79/79 [==============================] - ETA: 0s - loss: 0.2410 - accuracy: 0.9613\n",
            "Epoch 49: val_accuracy did not improve from 0.97018\n",
            "79/79 [==============================] - 15s 194ms/step - loss: 0.2410 - accuracy: 0.9613 - val_loss: 0.3355 - val_accuracy: 0.9499\n",
            "Epoch 50/100\n",
            "79/79 [==============================] - ETA: 0s - loss: 0.2464 - accuracy: 0.9647\n",
            "Epoch 50: val_accuracy did not improve from 0.97018\n",
            "79/79 [==============================] - 15s 194ms/step - loss: 0.2464 - accuracy: 0.9647 - val_loss: 0.3576 - val_accuracy: 0.9468\n",
            "Epoch 51/100\n",
            "79/79 [==============================] - ETA: 0s - loss: 0.1945 - accuracy: 0.9730\n",
            "Epoch 51: val_accuracy did not improve from 0.97018\n",
            "79/79 [==============================] - 15s 192ms/step - loss: 0.1945 - accuracy: 0.9730 - val_loss: 0.2561 - val_accuracy: 0.9681\n",
            "Epoch 52/100\n",
            "79/79 [==============================] - ETA: 0s - loss: 0.2149 - accuracy: 0.9684\n",
            "Epoch 52: val_accuracy did not improve from 0.97018\n",
            "79/79 [==============================] - 15s 193ms/step - loss: 0.2149 - accuracy: 0.9684 - val_loss: 1.1887 - val_accuracy: 0.9574\n",
            "Epoch 53/100\n",
            "79/79 [==============================] - ETA: 0s - loss: 0.2168 - accuracy: 0.9724\n",
            "Epoch 53: val_accuracy did not improve from 0.97018\n",
            "79/79 [==============================] - 15s 192ms/step - loss: 0.2168 - accuracy: 0.9724 - val_loss: 1.4113 - val_accuracy: 0.9478\n",
            "Epoch 54/100\n",
            "79/79 [==============================] - ETA: 0s - loss: 0.2401 - accuracy: 0.9639\n",
            "Epoch 54: val_accuracy did not improve from 0.97018\n",
            "79/79 [==============================] - 15s 190ms/step - loss: 0.2401 - accuracy: 0.9639 - val_loss: 0.3897 - val_accuracy: 0.9414\n",
            "Epoch 55/100\n",
            "79/79 [==============================] - ETA: 0s - loss: 0.2020 - accuracy: 0.9751\n",
            "Epoch 55: val_accuracy did not improve from 0.97018\n",
            "79/79 [==============================] - 15s 190ms/step - loss: 0.2020 - accuracy: 0.9751 - val_loss: 0.3939 - val_accuracy: 0.9095\n",
            "Epoch 56/100\n",
            "79/79 [==============================] - ETA: 0s - loss: 0.1955 - accuracy: 0.9722\n",
            "Epoch 56: val_accuracy did not improve from 0.97018\n",
            "79/79 [==============================] - 15s 194ms/step - loss: 0.1955 - accuracy: 0.9722 - val_loss: 0.4061 - val_accuracy: 0.9510\n",
            "Epoch 57/100\n",
            "79/79 [==============================] - ETA: 0s - loss: 0.1997 - accuracy: 0.9753\n",
            "Epoch 57: val_accuracy did not improve from 0.97018\n",
            "79/79 [==============================] - 15s 193ms/step - loss: 0.1997 - accuracy: 0.9753 - val_loss: 0.2413 - val_accuracy: 0.9617\n",
            "Epoch 58/100\n",
            "79/79 [==============================] - ETA: 0s - loss: 0.1934 - accuracy: 0.9751\n",
            "Epoch 58: val_accuracy did not improve from 0.97018\n",
            "79/79 [==============================] - 15s 192ms/step - loss: 0.1934 - accuracy: 0.9751 - val_loss: 0.3613 - val_accuracy: 0.9521\n",
            "Epoch 59/100\n",
            "79/79 [==============================] - ETA: 0s - loss: 0.2098 - accuracy: 0.9714\n",
            "Epoch 59: val_accuracy did not improve from 0.97018\n",
            "79/79 [==============================] - 15s 194ms/step - loss: 0.2098 - accuracy: 0.9714 - val_loss: 0.3184 - val_accuracy: 0.9425\n",
            "Epoch 60/100\n",
            "79/79 [==============================] - ETA: 0s - loss: 0.2124 - accuracy: 0.9708\n",
            "Epoch 60: val_accuracy did not improve from 0.97018\n",
            "79/79 [==============================] - 15s 191ms/step - loss: 0.2124 - accuracy: 0.9708 - val_loss: 0.4782 - val_accuracy: 0.9638\n",
            "Epoch 61/100\n",
            "79/79 [==============================] - ETA: 0s - loss: 0.2116 - accuracy: 0.9682\n",
            "Epoch 61: val_accuracy did not improve from 0.97018\n",
            "79/79 [==============================] - 15s 190ms/step - loss: 0.2116 - accuracy: 0.9682 - val_loss: 0.2012 - val_accuracy: 0.9702\n",
            "Epoch 62/100\n",
            "79/79 [==============================] - ETA: 0s - loss: 0.1965 - accuracy: 0.9756\n",
            "Epoch 62: val_accuracy improved from 0.97018 to 0.97870, saving model to model_isef2.h5\n",
            "79/79 [==============================] - 16s 202ms/step - loss: 0.1965 - accuracy: 0.9756 - val_loss: 0.2473 - val_accuracy: 0.9787\n",
            "Epoch 63/100\n",
            "79/79 [==============================] - ETA: 0s - loss: 0.2145 - accuracy: 0.9703\n",
            "Epoch 63: val_accuracy did not improve from 0.97870\n",
            "79/79 [==============================] - 15s 190ms/step - loss: 0.2145 - accuracy: 0.9703 - val_loss: 0.2970 - val_accuracy: 0.9553\n",
            "Epoch 64/100\n",
            "79/79 [==============================] - ETA: 0s - loss: 0.2045 - accuracy: 0.9735\n",
            "Epoch 64: val_accuracy improved from 0.97870 to 0.98616, saving model to model_isef2.h5\n",
            "79/79 [==============================] - 16s 205ms/step - loss: 0.2045 - accuracy: 0.9735 - val_loss: 0.1458 - val_accuracy: 0.9862\n",
            "Epoch 65/100\n",
            "79/79 [==============================] - ETA: 0s - loss: 0.1677 - accuracy: 0.9820\n",
            "Epoch 65: val_accuracy did not improve from 0.98616\n",
            "79/79 [==============================] - 15s 191ms/step - loss: 0.1677 - accuracy: 0.9820 - val_loss: 0.1973 - val_accuracy: 0.9723\n",
            "Epoch 66/100\n",
            "79/79 [==============================] - ETA: 0s - loss: 0.1655 - accuracy: 0.9796\n",
            "Epoch 66: val_accuracy did not improve from 0.98616\n",
            "79/79 [==============================] - 15s 191ms/step - loss: 0.1655 - accuracy: 0.9796 - val_loss: 0.1986 - val_accuracy: 0.9702\n",
            "Epoch 67/100\n",
            "79/79 [==============================] - ETA: 0s - loss: 0.1679 - accuracy: 0.9814\n",
            "Epoch 67: val_accuracy did not improve from 0.98616\n",
            "79/79 [==============================] - 15s 192ms/step - loss: 0.1679 - accuracy: 0.9814 - val_loss: 0.2980 - val_accuracy: 0.9638\n",
            "Epoch 68/100\n",
            "79/79 [==============================] - ETA: 0s - loss: 0.1848 - accuracy: 0.9759\n",
            "Epoch 68: val_accuracy did not improve from 0.98616\n",
            "79/79 [==============================] - 15s 192ms/step - loss: 0.1848 - accuracy: 0.9759 - val_loss: 1.8278 - val_accuracy: 0.8711\n",
            "Epoch 69/100\n",
            "79/79 [==============================] - ETA: 0s - loss: 0.2101 - accuracy: 0.9695\n",
            "Epoch 69: val_accuracy did not improve from 0.98616\n",
            "79/79 [==============================] - 15s 190ms/step - loss: 0.2101 - accuracy: 0.9695 - val_loss: 0.4659 - val_accuracy: 0.9404\n",
            "Epoch 70/100\n",
            "79/79 [==============================] - ETA: 0s - loss: 0.2426 - accuracy: 0.9626\n",
            "Epoch 70: val_accuracy did not improve from 0.98616\n",
            "79/79 [==============================] - 15s 191ms/step - loss: 0.2426 - accuracy: 0.9626 - val_loss: 0.5643 - val_accuracy: 0.9425\n",
            "Epoch 71/100\n",
            "79/79 [==============================] - ETA: 0s - loss: 0.1970 - accuracy: 0.9780\n",
            "Epoch 71: val_accuracy did not improve from 0.98616\n",
            "79/79 [==============================] - 15s 195ms/step - loss: 0.1970 - accuracy: 0.9780 - val_loss: 1.9666 - val_accuracy: 0.9265\n",
            "Epoch 72/100\n",
            "79/79 [==============================] - ETA: 0s - loss: 0.1872 - accuracy: 0.9793\n",
            "Epoch 72: val_accuracy did not improve from 0.98616\n",
            "79/79 [==============================] - 15s 193ms/step - loss: 0.1872 - accuracy: 0.9793 - val_loss: 0.2174 - val_accuracy: 0.9787\n",
            "Epoch 73/100\n",
            "79/79 [==============================] - ETA: 0s - loss: 0.2157 - accuracy: 0.9703\n",
            "Epoch 73: val_accuracy did not improve from 0.98616\n",
            "79/79 [==============================] - 16s 196ms/step - loss: 0.2157 - accuracy: 0.9703 - val_loss: 0.5003 - val_accuracy: 0.9425\n",
            "Epoch 74/100\n",
            "79/79 [==============================] - ETA: 0s - loss: 0.1973 - accuracy: 0.9761\n",
            "Epoch 74: val_accuracy did not improve from 0.98616\n",
            "79/79 [==============================] - 15s 189ms/step - loss: 0.1973 - accuracy: 0.9761 - val_loss: 0.3336 - val_accuracy: 0.9414\n",
            "Epoch 75/100\n",
            "79/79 [==============================] - ETA: 0s - loss: 0.2142 - accuracy: 0.9756\n",
            "Epoch 75: val_accuracy did not improve from 0.98616\n",
            "79/79 [==============================] - 15s 188ms/step - loss: 0.2142 - accuracy: 0.9756 - val_loss: 3.1109 - val_accuracy: 0.9553\n",
            "Epoch 76/100\n",
            "79/79 [==============================] - ETA: 0s - loss: 0.1718 - accuracy: 0.9809\n",
            "Epoch 76: val_accuracy did not improve from 0.98616\n",
            "79/79 [==============================] - 15s 191ms/step - loss: 0.1718 - accuracy: 0.9809 - val_loss: 0.2110 - val_accuracy: 0.9723\n",
            "Epoch 77/100\n",
            "79/79 [==============================] - ETA: 0s - loss: 0.1954 - accuracy: 0.9751\n",
            "Epoch 77: val_accuracy did not improve from 0.98616\n",
            "79/79 [==============================] - 15s 191ms/step - loss: 0.1954 - accuracy: 0.9751 - val_loss: 0.9031 - val_accuracy: 0.9734\n",
            "Epoch 78/100\n",
            "79/79 [==============================] - ETA: 0s - loss: 0.1841 - accuracy: 0.9798\n",
            "Epoch 78: val_accuracy improved from 0.98616 to 0.98935, saving model to model_isef2.h5\n",
            "79/79 [==============================] - 16s 203ms/step - loss: 0.1841 - accuracy: 0.9798 - val_loss: 0.6715 - val_accuracy: 0.9894\n",
            "Epoch 79/100\n",
            "79/79 [==============================] - ETA: 0s - loss: 0.1548 - accuracy: 0.9820\n",
            "Epoch 79: val_accuracy did not improve from 0.98935\n",
            "79/79 [==============================] - 15s 196ms/step - loss: 0.1548 - accuracy: 0.9820 - val_loss: 0.4304 - val_accuracy: 0.9521\n",
            "Epoch 80/100\n",
            "79/79 [==============================] - ETA: 0s - loss: 0.1507 - accuracy: 0.9851\n",
            "Epoch 80: val_accuracy did not improve from 0.98935\n",
            "79/79 [==============================] - 15s 193ms/step - loss: 0.1507 - accuracy: 0.9851 - val_loss: 0.2689 - val_accuracy: 0.9840\n",
            "Epoch 81/100\n",
            "79/79 [==============================] - ETA: 0s - loss: 0.1793 - accuracy: 0.9791\n",
            "Epoch 81: val_accuracy did not improve from 0.98935\n",
            "79/79 [==============================] - 15s 191ms/step - loss: 0.1793 - accuracy: 0.9791 - val_loss: 0.2211 - val_accuracy: 0.9627\n",
            "Epoch 82/100\n",
            "79/79 [==============================] - ETA: 0s - loss: 0.1455 - accuracy: 0.9867\n",
            "Epoch 82: val_accuracy did not improve from 0.98935\n",
            "79/79 [==============================] - 15s 194ms/step - loss: 0.1455 - accuracy: 0.9867 - val_loss: 0.2706 - val_accuracy: 0.9510\n",
            "Epoch 83/100\n",
            "79/79 [==============================] - ETA: 0s - loss: 0.1724 - accuracy: 0.9820\n",
            "Epoch 83: val_accuracy did not improve from 0.98935\n",
            "79/79 [==============================] - 15s 193ms/step - loss: 0.1724 - accuracy: 0.9820 - val_loss: 0.2544 - val_accuracy: 0.9585\n",
            "Epoch 84/100\n",
            "79/79 [==============================] - ETA: 0s - loss: 0.1960 - accuracy: 0.9735\n",
            "Epoch 84: val_accuracy did not improve from 0.98935\n",
            "79/79 [==============================] - 15s 190ms/step - loss: 0.1960 - accuracy: 0.9735 - val_loss: 0.4893 - val_accuracy: 0.9478\n",
            "Epoch 85/100\n",
            "79/79 [==============================] - ETA: 0s - loss: 0.2155 - accuracy: 0.9708\n",
            "Epoch 85: val_accuracy did not improve from 0.98935\n",
            "79/79 [==============================] - 15s 194ms/step - loss: 0.2155 - accuracy: 0.9708 - val_loss: 1.1315 - val_accuracy: 0.9084\n",
            "Epoch 86/100\n",
            "79/79 [==============================] - ETA: 0s - loss: 0.1807 - accuracy: 0.9759\n",
            "Epoch 86: val_accuracy did not improve from 0.98935\n",
            "79/79 [==============================] - 15s 195ms/step - loss: 0.1807 - accuracy: 0.9759 - val_loss: 0.3497 - val_accuracy: 0.9659\n",
            "Epoch 87/100\n",
            "79/79 [==============================] - ETA: 0s - loss: 0.1418 - accuracy: 0.9838\n",
            "Epoch 87: val_accuracy did not improve from 0.98935\n",
            "79/79 [==============================] - 15s 195ms/step - loss: 0.1418 - accuracy: 0.9838 - val_loss: 0.1590 - val_accuracy: 0.9776\n",
            "Epoch 88/100\n",
            "79/79 [==============================] - ETA: 0s - loss: 0.1606 - accuracy: 0.9817\n",
            "Epoch 88: val_accuracy did not improve from 0.98935\n",
            "79/79 [==============================] - 15s 193ms/step - loss: 0.1606 - accuracy: 0.9817 - val_loss: 0.2003 - val_accuracy: 0.9702\n",
            "Epoch 89/100\n",
            "79/79 [==============================] - ETA: 0s - loss: 0.1741 - accuracy: 0.9825\n",
            "Epoch 89: val_accuracy did not improve from 0.98935\n",
            "79/79 [==============================] - 15s 192ms/step - loss: 0.1741 - accuracy: 0.9825 - val_loss: 0.3977 - val_accuracy: 0.9595\n",
            "Epoch 90/100\n",
            "79/79 [==============================] - ETA: 0s - loss: 0.1915 - accuracy: 0.9775\n",
            "Epoch 90: val_accuracy did not improve from 0.98935\n",
            "79/79 [==============================] - 15s 194ms/step - loss: 0.1915 - accuracy: 0.9775 - val_loss: 0.3303 - val_accuracy: 0.9627\n",
            "Epoch 91/100\n",
            "79/79 [==============================] - ETA: 0s - loss: 0.1802 - accuracy: 0.9796\n",
            "Epoch 91: val_accuracy did not improve from 0.98935\n",
            "79/79 [==============================] - 15s 194ms/step - loss: 0.1802 - accuracy: 0.9796 - val_loss: 0.2128 - val_accuracy: 0.9712\n",
            "Epoch 92/100\n",
            "79/79 [==============================] - ETA: 0s - loss: 0.1565 - accuracy: 0.9830\n",
            "Epoch 92: val_accuracy did not improve from 0.98935\n",
            "79/79 [==============================] - 15s 193ms/step - loss: 0.1565 - accuracy: 0.9830 - val_loss: 0.1645 - val_accuracy: 0.9798\n",
            "Epoch 93/100\n",
            "79/79 [==============================] - ETA: 0s - loss: 0.1773 - accuracy: 0.9788\n",
            "Epoch 93: val_accuracy did not improve from 0.98935\n",
            "79/79 [==============================] - 15s 194ms/step - loss: 0.1773 - accuracy: 0.9788 - val_loss: 7.0621 - val_accuracy: 0.9286\n",
            "Epoch 94/100\n",
            "79/79 [==============================] - ETA: 0s - loss: 0.1667 - accuracy: 0.9801\n",
            "Epoch 94: val_accuracy did not improve from 0.98935\n",
            "79/79 [==============================] - 15s 195ms/step - loss: 0.1667 - accuracy: 0.9801 - val_loss: 1.2494 - val_accuracy: 0.9414\n",
            "Epoch 95/100\n",
            "79/79 [==============================] - ETA: 0s - loss: 0.1833 - accuracy: 0.9737\n",
            "Epoch 95: val_accuracy did not improve from 0.98935\n",
            "79/79 [==============================] - 15s 192ms/step - loss: 0.1833 - accuracy: 0.9737 - val_loss: 0.4933 - val_accuracy: 0.8839\n",
            "Epoch 96/100\n",
            "79/79 [==============================] - ETA: 0s - loss: 0.1571 - accuracy: 0.9801\n",
            "Epoch 96: val_accuracy did not improve from 0.98935\n",
            "79/79 [==============================] - 15s 191ms/step - loss: 0.1571 - accuracy: 0.9801 - val_loss: 0.2411 - val_accuracy: 0.9542\n",
            "Epoch 97/100\n",
            "79/79 [==============================] - ETA: 0s - loss: 0.1623 - accuracy: 0.9804\n",
            "Epoch 97: val_accuracy did not improve from 0.98935\n",
            "79/79 [==============================] - 16s 196ms/step - loss: 0.1623 - accuracy: 0.9804 - val_loss: 0.3146 - val_accuracy: 0.9361\n",
            "Epoch 98/100\n",
            "79/79 [==============================] - ETA: 0s - loss: 0.1514 - accuracy: 0.9833\n",
            "Epoch 98: val_accuracy did not improve from 0.98935\n",
            "79/79 [==============================] - 15s 194ms/step - loss: 0.1514 - accuracy: 0.9833 - val_loss: 0.1354 - val_accuracy: 0.9840\n",
            "Epoch 99/100\n",
            "79/79 [==============================] - ETA: 0s - loss: 0.1644 - accuracy: 0.9812\n",
            "Epoch 99: val_accuracy did not improve from 0.98935\n",
            "79/79 [==============================] - 15s 193ms/step - loss: 0.1644 - accuracy: 0.9812 - val_loss: 0.1872 - val_accuracy: 0.9691\n",
            "Epoch 100/100\n",
            "79/79 [==============================] - ETA: 0s - loss: 0.1912 - accuracy: 0.9761\n",
            "Epoch 100: val_accuracy did not improve from 0.98935\n",
            "79/79 [==============================] - 15s 195ms/step - loss: 0.1912 - accuracy: 0.9761 - val_loss: 0.2190 - val_accuracy: 0.9691\n",
            "CPU times: user 32min 37s, sys: 41.1 s, total: 33min 18s\n",
            "Wall time: 26min 9s\n"
          ]
        }
      ]
    },
    {
      "cell_type": "markdown",
      "source": [
        "## Visualization"
      ],
      "metadata": {
        "id": "wVdRJWwEHhtI"
      }
    },
    {
      "cell_type": "code",
      "source": [
        "f, ax=plt.subplots(figsize=(6,3))\n",
        "plt.plot(model_history.history['accuracy'], label='Training Accuracy')\n",
        "plt.plot(model_history.history['val_accuracy'], label='Validation Accuracy')\n",
        "plt.title('Training and Validation Accuracy')\n",
        "plt.ylabel('Accuracy')\n",
        "plt.xlabel('epoch')\n",
        "plt.legend()\n",
        "plt.show()"
      ],
      "metadata": {
        "colab": {
          "base_uri": "https://localhost:8080/",
          "height": 333
        },
        "id": "sgU5K5v0B8mN",
        "outputId": "26fb2c9b-fdd9-4843-d084-f44510ac6c8f"
      },
      "execution_count": null,
      "outputs": [
        {
          "output_type": "display_data",
          "data": {
            "text/plain": [
              "<Figure size 600x300 with 1 Axes>"
            ],
            "image/png": "[encoded data removed]"
          },
          "metadata": {}
        }
      ]
    }
  ]
}